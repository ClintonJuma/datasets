{
 "cells": [
  {
   "cell_type": "code",
   "execution_count": null,
   "id": "d0443098",
   "metadata": {},
   "outputs": [],
   "source": [
    "import pandas as pd\n",
    "import numpy as np\n",
    "import matplotlib.pyplot as plt\n",
    "import datetime as dt\n",
    "import seaborn as sns\n",
    "sns.set_style(\"darkgrid\")"
   ]
  },
  {
   "cell_type": "code",
   "execution_count": null,
   "id": "fc71bd9d",
   "metadata": {},
   "outputs": [],
   "source": [
    "data = pd.read_csv('Student Mental health.csv')\n",
    "data"
   ]
  },
  {
   "cell_type": "code",
   "execution_count": null,
   "id": "b1f892e5",
   "metadata": {},
   "outputs": [],
   "source": [
    "data.info()"
   ]
  },
  {
   "cell_type": "code",
   "execution_count": null,
   "id": "cab62516",
   "metadata": {},
   "outputs": [],
   "source": [
    "data[\"Timestamp\"] = pd.to_datetime(data[\"Timestamp\"])\n",
    "data[\"Timestamp\"].info()"
   ]
  },
  {
   "cell_type": "code",
   "execution_count": null,
   "id": "fe627f9e",
   "metadata": {},
   "outputs": [],
   "source": [
    "#adding the Month and Day Column for more analysis\n",
    "data[\"Month\"] = data[\"Timestamp\"].dt.month_name()\n",
    "data[\"Day\"] = data[\"Timestamp\"].dt.day_name()\n",
    "data.head()"
   ]
  },
  {
   "cell_type": "code",
   "execution_count": null,
   "id": "8c1ae35a",
   "metadata": {},
   "outputs": [],
   "source": [
    "data.nunique()"
   ]
  },
  {
   "cell_type": "code",
   "execution_count": null,
   "id": "2df9d437",
   "metadata": {},
   "outputs": [],
   "source": [
    "data.isnull().sum()"
   ]
  },
  {
   "cell_type": "markdown",
   "id": "98ceb8f1",
   "metadata": {},
   "source": [
    "Age column has one null value,we can delete the row or replace with the mean"
   ]
  },
  {
   "cell_type": "code",
   "execution_count": null,
   "id": "c3ee3045",
   "metadata": {},
   "outputs": [],
   "source": [
    "data.dropna(inplace=True)\n",
    "data.info()"
   ]
  },
  {
   "cell_type": "markdown",
   "id": "233ac0a1",
   "metadata": {},
   "source": [
    "We have removed the null row and the dataset in clean for EDA"
   ]
  },
  {
   "cell_type": "code",
   "execution_count": null,
   "id": "d00ba947",
   "metadata": {},
   "outputs": [],
   "source": [
    "data.describe().T"
   ]
  },
  {
   "cell_type": "markdown",
   "id": "3692604e",
   "metadata": {},
   "source": [
    "The youngest student in the reseach was 18 years old,while the oldest was 24."
   ]
  },
  {
   "cell_type": "code",
   "execution_count": null,
   "id": "c8e6488e",
   "metadata": {},
   "outputs": [],
   "source": [
    "data.describe(exclude=\"number\",datetime_is_numeric=True).T"
   ]
  },
  {
   "cell_type": "markdown",
   "id": "129fa86c",
   "metadata": {},
   "source": [
    "# Exploratory Data Analysis and Visualization;Gender"
   ]
  },
  {
   "cell_type": "code",
   "execution_count": null,
   "id": "2b856409",
   "metadata": {},
   "outputs": [],
   "source": [
    "depressed_gender = data.groupby([\"Choose your gender\",\"Do you have Depression?\"])[\"Do you have Depression?\"].count().reset_index(name=\"count\")\n",
    "depressed_gender"
   ]
  },
  {
   "cell_type": "markdown",
   "id": "1c9dcbb3",
   "metadata": {},
   "source": [
    "In the dataset,Most females were depressed compared to their male counterparts"
   ]
  },
  {
   "cell_type": "code",
   "execution_count": null,
   "id": "19d1a9a7",
   "metadata": {},
   "outputs": [],
   "source": [
    "anxiety_gender = data.groupby([\"Choose your gender\",\"Do you have Anxiety?\"])[\"Do you have Anxiety?\"].count().reset_index(name=\"count\")\n",
    "anxiety_gender"
   ]
  },
  {
   "cell_type": "markdown",
   "id": "a76f6ed6",
   "metadata": {},
   "source": [
    "\n",
    "Most females had anxiety as compared to the male gender"
   ]
  },
  {
   "cell_type": "code",
   "execution_count": null,
   "id": "b52bca8b",
   "metadata": {},
   "outputs": [],
   "source": [
    "plt.figure(figsize=(10,5))\n",
    "panic_gender = data.groupby([\"Choose your gender\",\"Do you have Panic attack?\"])[\"Do you have Panic attack?\"].count().reset_index(name=\"count\")\n",
    "panic_gender  "
   ]
  },
  {
   "cell_type": "markdown",
   "id": "00284b5a",
   "metadata": {},
   "source": [
    "Female gender had the highest rate of Panic attacks with about 50% , while male gender had the least pani attacksof about 20%"
   ]
  },
  {
   "cell_type": "code",
   "execution_count": null,
   "id": "26f75682",
   "metadata": {},
   "outputs": [],
   "source": [
    "treatment_gender = data.groupby([\"Choose your gender\",\"Did you seek any specialist for a treatment?\"])[\"Did you seek any specialist for a treatment?\"].count().reset_index(name=\"count\")\n",
    "treatment_gender"
   ]
  },
  {
   "cell_type": "markdown",
   "id": "fac2c621",
   "metadata": {},
   "source": [
    "The ratio of student with mental issues and those that seeked a specialised treatment,shows that most students do not seek any treatment. Female students led with seeking treatment at about 5%,while male students less seeked specialised treatment"
   ]
  },
  {
   "cell_type": "code",
   "execution_count": null,
   "id": "0bf4d3c1",
   "metadata": {},
   "outputs": [],
   "source": [
    "fig,axes = plt.subplots(2,2,figsize=(16,10))\n",
    "\n",
    "\n",
    "axes[0,0].set_title(\"Depressed gender\")\n",
    "sns.barplot(x=\"Choose your gender\",y=\"count\",hue=\"Do you have Depression?\",data=depressed_gender,ax=axes[0,0])\n",
    "axes[0,1].set_title(\"Anxiety levels per  Gender\")\n",
    "sns.barplot(x=\"Choose your gender\",y=\"count\",hue=\"Do you have Anxiety?\",data=anxiety_gender,ax=axes[0,1])\n",
    "axes[1,0].set_title(\"Panic attacks per  Gender\")\n",
    "sns.barplot(x=\"Choose your gender\",y=\"count\",hue=\"Do you have Panic attack?\",data=panic_gender,ax=axes[1,0])\n",
    "axes[1,1].set_title(\"Seeking treatment per  Gender\")\n",
    "sns.barplot(x=\"Choose your gender\",y=\"count\",hue=\"Did you seek any specialist for a treatment?\",data=treatment_gender,ax=axes[1,1])\n"
   ]
  },
  {
   "cell_type": "markdown",
   "id": "bf95b5ee",
   "metadata": {},
   "source": [
    "In the dataset,Most females were depressed compared to their male counterparts.\n",
    "\n",
    "Most females had anxiety as compared to the male gender.\n",
    "Female gender had the highest rate of Panic attacks with about 50% , while male gender had the least pani attacksof about 20%\n",
    "The ratio of student with mental issues and those that seeked a specialised treatment,shows that most students do not seek any treatment. Female students led with seeking treatment at about 5%,while male students less seeked specialised treatment"
   ]
  },
  {
   "cell_type": "markdown",
   "id": "9fc52337",
   "metadata": {},
   "source": [
    "# COURSE"
   ]
  },
  {
   "cell_type": "code",
   "execution_count": null,
   "id": "1c3064a8",
   "metadata": {},
   "outputs": [],
   "source": [
    "data[\"What is your course?\"].value_counts()\n",
    "data[\"Your current year of Study\"].value_counts()"
   ]
  },
  {
   "cell_type": "markdown",
   "id": "f5c021d0",
   "metadata": {},
   "source": [
    "the leading course for the conducted research was BSC WITH 18 students,Engineering with 17 students and BIT with 9 students"
   ]
  },
  {
   "cell_type": "code",
   "execution_count": null,
   "id": "81ada452",
   "metadata": {},
   "outputs": [],
   "source": [
    "data[\"What is your CGPA?\"].value_counts()"
   ]
  },
  {
   "cell_type": "code",
   "execution_count": null,
   "id": "e720e26b",
   "metadata": {},
   "outputs": [],
   "source": [
    "stude = data.groupby([\"What is your course?\",\"Your current year of Study\",\"What is your CGPA?\",\"Do you have Depression?\",\"Do you have Anxiety?\",\"Do you have Panic attack?\",\"Did you seek any specialist for a treatment?\"])[\"What is your CGPA?\"].count().reset_index(name=\"count\")  \n",
    "stude = stude.sort_values(\"count\",ascending=False)\n",
    "stude.head()\n"
   ]
  },
  {
   "cell_type": "code",
   "execution_count": null,
   "id": "964e22c1",
   "metadata": {},
   "outputs": [],
   "source": [
    "plt.figure(figsize=(15,10))\n",
    "sns.scatterplot(y=\"What is your course?\",x=\"Your current year of Study\",hue=\"Do you have Depression?\",s=50,data=stude)\n",
    "plt.title(\"Depression per course and year of study\",fontsize=20)"
   ]
  },
  {
   "cell_type": "markdown",
   "id": "e71c29b3",
   "metadata": {},
   "source": [
    "The students with highest level of depression was BIT year 1,Law year 3,KOE year 3,Marine science year,Islam yer 2"
   ]
  },
  {
   "cell_type": "code",
   "execution_count": null,
   "id": "6a4a2881",
   "metadata": {},
   "outputs": [],
   "source": [
    "sns.scatterplot(y=\"Your current year of Study\",x=\"count\",hue=\"Do you have Depression?\",data=stude)"
   ]
  },
  {
   "cell_type": "markdown",
   "id": "78ed86ee",
   "metadata": {},
   "source": [
    "Most students of Year 2 were the most depressed,followed by year 4 and year 1"
   ]
  },
  {
   "cell_type": "code",
   "execution_count": null,
   "id": "fce9ba2b",
   "metadata": {},
   "outputs": [],
   "source": [
    "plt.figure(figsize=(15,10))\n",
    "sns.scatterplot(y=\"What is your course?\",x=\"What is your CGPA?\",hue=\"Do you have Depression?\",s=50,data=stude)\n",
    "plt.title(\"Depression per course and CGPA\",fontsize=20)"
   ]
  },
  {
   "cell_type": "markdown",
   "id": "7da613c8",
   "metadata": {},
   "source": [
    "Pendidikan islam with an a CGPA of 3.50-4.00  were more depressed followed by Engineering,ALA,BIT students of CGPA 2.50-20.99 "
   ]
  },
  {
   "cell_type": "code",
   "execution_count": null,
   "id": "0b28e3a0",
   "metadata": {},
   "outputs": [],
   "source": [
    "plt.figure(figsize=(15,10))\n",
    "sns.scatterplot(y=\"What is your course?\",x=\"Do you have Depression?\",hue=\"Did you seek any specialist for a treatment?\",data=stude)\n",
    "plt.title(\"Treatment,per depressed Course\",fontsize=20)"
   ]
  },
  {
   "cell_type": "markdown",
   "id": "1f5bd358",
   "metadata": {},
   "source": [
    "Most students do not seek any treatment,but BSC,Engineering and ALA students who were depressed,seeked for some specialised treatment"
   ]
  },
  {
   "cell_type": "markdown",
   "id": "bcfda423",
   "metadata": {},
   "source": [
    "# Marital status"
   ]
  },
  {
   "cell_type": "code",
   "execution_count": null,
   "id": "5970e69a",
   "metadata": {},
   "outputs": [],
   "source": [
    "df.groupby([\"\"])"
   ]
  },
  {
   "cell_type": "code",
   "execution_count": null,
   "id": "6f12733e",
   "metadata": {},
   "outputs": [],
   "source": [
    "marital = data.groupby([\"Marital status\",\"Your current year of Study\",\"Do you have Depression?\"])[\"Do you have Depression?\"].count().reset_index(name=\"count\")\n",
    "marital = marital.sort_values(\"count\",ascending=False)\n",
    "marital"
   ]
  },
  {
   "cell_type": "code",
   "execution_count": null,
   "id": "721cc31f",
   "metadata": {},
   "outputs": [],
   "source": [
    "plt.figure(figsize=(15,10))\n",
    "sns.scatterplot(x=\"count\",y=\"Your current year of Study\",hue=\"Marital status\",data=marital)\n",
    "plt.title(\"Depression per Marital status\",fontsize=20)"
   ]
  },
  {
   "cell_type": "markdown",
   "id": "8e354e50",
   "metadata": {},
   "source": [
    "Year 3 students who are married are the most depressed,followed by year 2 married students"
   ]
  },
  {
   "cell_type": "code",
   "execution_count": null,
   "id": "43a0d6a0",
   "metadata": {},
   "outputs": [],
   "source": []
  }
 ],
 "metadata": {
  "kernelspec": {
   "display_name": "Python 3 (ipykernel)",
   "language": "python",
   "name": "python3"
  },
  "language_info": {
   "codemirror_mode": {
    "name": "ipython",
    "version": 3
   },
   "file_extension": ".py",
   "mimetype": "text/x-python",
   "name": "python",
   "nbconvert_exporter": "python",
   "pygments_lexer": "ipython3",
   "version": "3.9.12"
  }
 },
 "nbformat": 4,
 "nbformat_minor": 5
}
